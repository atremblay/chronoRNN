{
 "cells": [
  {
   "cell_type": "code",
   "execution_count": 4,
   "metadata": {},
   "outputs": [],
   "source": [
    "import torch\n",
    "import json\n",
    "from pathlib import Path\n",
    "from task.taskManager import get_model\n",
    "\n",
    "def load_checkpoint(checkpoint_path):\n",
    "    checkpoint_path = Path(checkpoint_path)\n",
    "    assert checkpoint_path.exists()\n",
    "    checkpoint = torch.load(checkpoint_path)\n",
    "    task = get_model(checkpoint[\"arguments\"])\n",
    "    return checkpoint[\"model\"], checkpoint[\"history\"], task\n"
   ]
  },
  {
   "cell_type": "code",
   "execution_count": 6,
   "metadata": {},
   "outputs": [],
   "source": [
    "model, history, task = load_checkpoint(\"saves/warpTask-0-batch-1000.pth\")"
   ]
  },
  {
   "cell_type": "code",
   "execution_count": null,
   "metadata": {},
   "outputs": [],
   "source": [
    "for batch_num, x, y in model.dataloader:\n",
    "    "
   ]
  }
 ],
 "metadata": {
  "kernelspec": {
   "display_name": "Python 3",
   "language": "python",
   "name": "python3"
  },
  "language_info": {
   "codemirror_mode": {
    "name": "ipython",
    "version": 3
   },
   "file_extension": ".py",
   "mimetype": "text/x-python",
   "name": "python",
   "nbconvert_exporter": "python",
   "pygments_lexer": "ipython3",
   "version": "3.6.5"
  }
 },
 "nbformat": 4,
 "nbformat_minor": 2
}
